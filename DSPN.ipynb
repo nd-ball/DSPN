{
 "cells": [
  {
   "cell_type": "code",
   "execution_count": null,
   "metadata": {
    "ExecuteTime": {
     "end_time": "2025-03-09T14:12:08.664739Z",
     "start_time": "2025-03-09T14:12:02.696193Z"
    }
   },
   "outputs": [],
   "source": [
    "import time\n",
    "import torch\n",
    "from preprocess import TripPreProcess, ASAPPreProcess\n",
    "from models import DSPN\n",
    "from utils import set_seed\n",
    "from trainer import DSPN_trainer\n",
    "from transformers import BertModel, BertTokenizer\n",
    "from transformers import RobertaTokenizer, RobertaModel\n",
    "from transformers import AutoTokenizer, AutoModel\n",
    "from transformers import AlbertTokenizer, AlbertModel\n",
    "# import warnings\n",
    "# warnings.filterwarnings(\"ignore\")"
   ]
  },
  {
   "cell_type": "code",
   "execution_count": null,
   "metadata": {
    "ExecuteTime": {
     "end_time": "2025-03-09T14:12:15.137872Z",
     "start_time": "2025-03-09T14:12:15.124557Z"
    }
   },
   "outputs": [],
   "source": [
    "data_name = 'Trip' # ['ASAP', 'Trip', 'rest_14', 'rest_15', 'rest_16', 'mams']\n",
    "device = torch.device('cuda' if torch.cuda.is_available() else 'cpu')\n",
    "seed = 1\n",
    "set_seed(seed)\n",
    "n_epochs = 5\n",
    "batch_size = 32"
   ]
  },
  {
   "cell_type": "code",
   "execution_count": null,
   "metadata": {},
   "outputs": [],
   "source": [
    "if data_name == 'Trip':\n",
    "    trip = TripPreProcess()\n",
    "    T, train_set, dev_set, test_set = trip.get_dataset()\n",
    "    bert_model = BertModel.from_pretrained(\"./model_params/bert-base-uncased\")\n",
    "    bert_tokenizer = BertTokenizer.from_pretrained(\"./model_params/bert-base-uncased\")\n",
    "    #bert_model = RobertaModel.from_pretrained(\"./model_params/roberta-base\")\n",
    "    #bert_tokenizer = RobertaTokenizer.from_pretrained(\"./model_params/roberta-base\")\n",
    "    #bert_model = AlbertModel.from_pretrained(\"./model_params/albert-base-v2\")\n",
    "    #bert_tokenizer = AlbertTokenizer.from_pretrained('./model_params/albert-base-v2')\n",
    "elif data_name == 'ASAP':\n",
    "    asap = ASAPPreProcess()\n",
    "    T, train_set, dev_set, test_set = asap.get_dataset()\n",
    "    bert_model = BertModel.from_pretrained(\"./model_params/bert-base-chinese\")\n",
    "    bert_tokenizer = BertTokenizer.from_pretrained(\"./model_params/bert-base-chinese\")\n",
    "    #bert_model = AutoModel.from_pretrained(\"./model_params/roberta-base-chinese\")\n",
    "    #bert_tokenizer = AutoTokenizer.from_pretrained(\"./model_params/roberta-base-chinese\")\n",
    "    #bert_model = AlbertModel.from_pretrained(\"./model_params/albert-chinese-base/\")\n",
    "    #bert_tokenizer = AutoTokenizer.from_pretrained(\"./model_params/albert-chinese-base/\")"
   ]
  },
  {
   "cell_type": "code",
   "execution_count": null,
   "metadata": {},
   "outputs": [],
   "source": [
    "model = DSPN(T, bert_model, bert_tokenizer).to(device)\n",
    "trainer = DSPN_trainer(data_name)"
   ]
  },
  {
   "cell_type": "markdown",
   "metadata": {},
   "source": [
    "### Train"
   ]
  },
  {
   "cell_type": "code",
   "execution_count": null,
   "metadata": {},
   "outputs": [],
   "source": [
    "num_params = sum(p.numel() for p in model.state_dict().values())\n",
    "print(f\"Params_size: {num_params/1000000}M\")"
   ]
  },
  {
   "cell_type": "code",
   "execution_count": null,
   "metadata": {
    "scrolled": true
   },
   "outputs": [],
   "source": [
    "start_time = time.time()\n",
    "trainer.train(model, train_set, dev_set, device=device, n_epochs=n_epochs, batch_size=batch_size, data_name=data_name, model_name='DSPN_'+str(seed))\n",
    "end_time = time.time()\n",
    "used_mins = (end_time - start_time) / 60\n",
    "print(f\"Time: {used_mins} Minutes\")"
   ]
  },
  {
   "cell_type": "markdown",
   "metadata": {},
   "source": [
    "### Test"
   ]
  },
  {
   "cell_type": "code",
   "execution_count": null,
   "metadata": {},
   "outputs": [],
   "source": [
    "model.load_state_dict(torch.load(\"./model_params/\" + data_name + \"_DSPN_\"+ str(seed) +\".model\", map_location=device))"
   ]
  },
  {
   "cell_type": "code",
   "execution_count": null,
   "metadata": {},
   "outputs": [],
   "source": [
    "trainer.test_rp(model, test_set, batch_size, device)"
   ]
  },
  {
   "cell_type": "code",
   "execution_count": null,
   "metadata": {},
   "outputs": [],
   "source": [
    "trainer.test_acd(model, test_set, batch_size, device)"
   ]
  },
  {
   "cell_type": "code",
   "execution_count": null,
   "metadata": {},
   "outputs": [],
   "source": [
    "trainer.test_acsa(model, test_set, batch_size, device, best_th=1e-4)"
   ]
  },
  {
   "cell_type": "code",
   "execution_count": null,
   "metadata": {},
   "outputs": [],
   "source": []
  }
 ],
 "metadata": {
  "kernelspec": {
   "display_name": "Python 3 (ipykernel)",
   "language": "python",
   "name": "python3"
  },
  "language_info": {
   "codemirror_mode": {
    "name": "ipython",
    "version": 3
   },
   "file_extension": ".py",
   "mimetype": "text/x-python",
   "name": "python",
   "nbconvert_exporter": "python",
   "pygments_lexer": "ipython3",
   "version": "3.9.19"
  }
 },
 "nbformat": 4,
 "nbformat_minor": 4
}
