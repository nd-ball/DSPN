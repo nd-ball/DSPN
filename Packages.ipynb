{
 "cells": [
  {
   "cell_type": "code",
   "execution_count": 2,
   "id": "275e7316",
   "metadata": {
    "scrolled": true,
    "tags": []
   },
   "outputs": [
    {
     "name": "stdout",
     "output_type": "stream",
     "text": [
      "Defaulting to user installation because normal site-packages is not writeable\n",
      "Looking in indexes: https://pypi.tuna.tsinghua.edu.cn/simple\n",
      "Collecting pytorch-pretrained-bert\n",
      "  Downloading https://pypi.tuna.tsinghua.edu.cn/packages/d7/e0/c08d5553b89973d9a240605b9c12404bcf8227590de62bae27acbcfe076b/pytorch_pretrained_bert-0.6.2-py3-none-any.whl (123 kB)\n",
      "     |████████████████████████████████| 123 kB 196 kB/s            \n",
      "\u001b[?25hRequirement already satisfied: numpy in /usr/lib64/python3.9/site-packages (from pytorch-pretrained-bert) (1.20.1)\n",
      "Collecting regex\n",
      "  Downloading https://pypi.tuna.tsinghua.edu.cn/packages/86/44/2101cc0890c3621b90365c9ee8d7291a597c0722ad66eccd6ffa7f1bcc09/regex-2024.11.6-cp39-cp39-manylinux_2_17_x86_64.manylinux2014_x86_64.whl (780 kB)\n",
      "     |████████████████████████████████| 780 kB 4.3 MB/s            \n",
      "\u001b[?25hCollecting tqdm\n",
      "  Downloading https://pypi.tuna.tsinghua.edu.cn/packages/d0/30/dc54f88dd4a2b5dc8a0279bdd7270e735851848b762aeb1c1184ed1f6b14/tqdm-4.67.1-py3-none-any.whl (78 kB)\n",
      "     |████████████████████████████████| 78 kB 341 kB/s             \n",
      "\u001b[?25hCollecting torch>=0.4.1\n",
      "  Downloading https://pypi.tuna.tsinghua.edu.cn/packages/40/bb/feb5644baa621fd8e1e88bf51f6fa38ab3f985d472a764144ff4867ac1d6/torch-2.6.0-cp39-cp39-manylinux1_x86_64.whl (766.7 MB)\n",
      "     |████████████████████████████████| 766.7 MB 3.8 kB/s             \n",
      "\u001b[?25hCollecting boto3\n",
      "  Downloading https://pypi.tuna.tsinghua.edu.cn/packages/a2/64/9f9578142ba1ed3ecc6b82a53c5c4c4352108e1424f1d5d02b6239b4314f/boto3-1.37.13-py3-none-any.whl (139 kB)\n",
      "     |████████████████████████████████| 139 kB 8.9 MB/s            \n",
      "\u001b[?25hRequirement already satisfied: requests in /afs/crc.nd.edu/user/w/wli24/.local/lib/python3.9/site-packages (from pytorch-pretrained-bert) (2.32.3)\n",
      "Collecting nvidia-cusolver-cu12==11.6.1.9\n",
      "  Downloading https://pypi.tuna.tsinghua.edu.cn/packages/3a/e1/5b9089a4b2a4790dfdea8b3a006052cfecff58139d5a4e34cb1a51df8d6f/nvidia_cusolver_cu12-11.6.1.9-py3-none-manylinux2014_x86_64.whl (127.9 MB)\n",
      "     |████████████████████████████████| 127.9 MB 116 kB/s             \n",
      "\u001b[?25hCollecting nvidia-cudnn-cu12==9.1.0.70\n",
      "  Downloading https://pypi.tuna.tsinghua.edu.cn/packages/9f/fd/713452cd72343f682b1c7b9321e23829f00b842ceaedcda96e742ea0b0b3/nvidia_cudnn_cu12-9.1.0.70-py3-none-manylinux2014_x86_64.whl (664.8 MB)\n",
      "     |████████████████████████████████| 664.8 MB 7.1 kB/s             \n",
      "\u001b[?25hCollecting triton==3.2.0\n",
      "  Downloading https://pypi.tuna.tsinghua.edu.cn/packages/bc/74/9f12bdedeb110242d8bb1bd621f6605e753ee0cbf73cf7f3a62b8173f190/triton-3.2.0-cp39-cp39-manylinux_2_17_x86_64.manylinux2014_x86_64.whl (253.1 MB)\n",
      "     |████████████████████████████████| 253.1 MB 46 kB/s              \n",
      "\u001b[?25hCollecting networkx\n",
      "  Downloading https://pypi.tuna.tsinghua.edu.cn/packages/d5/f0/8fbc882ca80cf077f1b246c0e3c3465f7f415439bdea6b899f6b19f61f70/networkx-3.2.1-py3-none-any.whl (1.6 MB)\n",
      "     |████████████████████████████████| 1.6 MB 9.1 MB/s            \n",
      "\u001b[?25hCollecting filelock\n",
      "  Downloading https://pypi.tuna.tsinghua.edu.cn/packages/4d/36/2a115987e2d8c300a974597416d9de88f2444426de9571f4b59b2cca3acc/filelock-3.18.0-py3-none-any.whl (16 kB)\n",
      "Requirement already satisfied: jinja2 in /afs/crc.nd.edu/user/w/wli24/.local/lib/python3.9/site-packages (from torch>=0.4.1->pytorch-pretrained-bert) (3.1.6)\n",
      "Collecting nvidia-cuda-runtime-cu12==12.4.127\n",
      "  Downloading https://pypi.tuna.tsinghua.edu.cn/packages/ea/27/1795d86fe88ef397885f2e580ac37628ed058a92ed2c39dc8eac3adf0619/nvidia_cuda_runtime_cu12-12.4.127-py3-none-manylinux2014_x86_64.whl (883 kB)\n",
      "     |████████████████████████████████| 883 kB 9.0 MB/s            \n",
      "\u001b[?25hCollecting fsspec\n",
      "  Downloading https://pypi.tuna.tsinghua.edu.cn/packages/56/53/eb690efa8513166adef3e0669afd31e95ffde69fb3c52ec2ac7223ed6018/fsspec-2025.3.0-py3-none-any.whl (193 kB)\n",
      "     |████████████████████████████████| 193 kB 9.0 MB/s            \n",
      "\u001b[?25hCollecting nvidia-cufft-cu12==11.2.1.3\n",
      "  Downloading https://pypi.tuna.tsinghua.edu.cn/packages/27/94/3266821f65b92b3138631e9c8e7fe1fb513804ac934485a8d05776e1dd43/nvidia_cufft_cu12-11.2.1.3-py3-none-manylinux2014_x86_64.whl (211.5 MB)\n",
      "     |████████████████████████████████| 211.5 MB 26 kB/s              \n",
      "\u001b[?25hCollecting nvidia-cuda-nvrtc-cu12==12.4.127\n",
      "  Downloading https://pypi.tuna.tsinghua.edu.cn/packages/2c/14/91ae57cd4db3f9ef7aa99f4019cfa8d54cb4caa7e00975df6467e9725a9f/nvidia_cuda_nvrtc_cu12-12.4.127-py3-none-manylinux2014_x86_64.whl (24.6 MB)\n",
      "     |████████████████████████████████| 24.6 MB 9.2 MB/s            \n",
      "\u001b[?25hCollecting nvidia-nvtx-cu12==12.4.127\n",
      "  Downloading https://pypi.tuna.tsinghua.edu.cn/packages/87/20/199b8713428322a2f22b722c62b8cc278cc53dffa9705d744484b5035ee9/nvidia_nvtx_cu12-12.4.127-py3-none-manylinux2014_x86_64.whl (99 kB)\n",
      "     |████████████████████████████████| 99 kB 4.0 MB/s             \n",
      "\u001b[?25hCollecting nvidia-cusparselt-cu12==0.6.2\n",
      "  Downloading https://pypi.tuna.tsinghua.edu.cn/packages/78/a8/bcbb63b53a4b1234feeafb65544ee55495e1bb37ec31b999b963cbccfd1d/nvidia_cusparselt_cu12-0.6.2-py3-none-manylinux2014_x86_64.whl (150.1 MB)\n",
      "     |████████████████████████████████| 150.1 MB 6.0 MB/s            \n",
      "\u001b[?25hCollecting nvidia-curand-cu12==10.3.5.147\n",
      "  Downloading https://pypi.tuna.tsinghua.edu.cn/packages/8a/6d/44ad094874c6f1b9c654f8ed939590bdc408349f137f9b98a3a23ccec411/nvidia_curand_cu12-10.3.5.147-py3-none-manylinux2014_x86_64.whl (56.3 MB)\n",
      "     |████████████████████████████████| 56.3 MB 94 kB/s             \n",
      "\u001b[?25hCollecting sympy==1.13.1\n",
      "  Downloading https://pypi.tuna.tsinghua.edu.cn/packages/b2/fe/81695a1aa331a842b582453b605175f419fe8540355886031328089d840a/sympy-1.13.1-py3-none-any.whl (6.2 MB)\n",
      "     |████████████████████████████████| 6.2 MB 508 kB/s            \n",
      "\u001b[?25hRequirement already satisfied: typing-extensions>=4.10.0 in /afs/crc.nd.edu/user/w/wli24/.local/lib/python3.9/site-packages (from torch>=0.4.1->pytorch-pretrained-bert) (4.12.2)\n",
      "Collecting nvidia-nvjitlink-cu12==12.4.127\n",
      "  Downloading https://pypi.tuna.tsinghua.edu.cn/packages/ff/ff/847841bacfbefc97a00036e0fce5a0f086b640756dc38caea5e1bb002655/nvidia_nvjitlink_cu12-12.4.127-py3-none-manylinux2014_x86_64.whl (21.1 MB)\n",
      "     |████████████████████████████████| 21.1 MB 217 kB/s            \n",
      "\u001b[?25hCollecting nvidia-nccl-cu12==2.21.5\n",
      "  Downloading https://pypi.tuna.tsinghua.edu.cn/packages/df/99/12cd266d6233f47d00daf3a72739872bdc10267d0383508b0b9c84a18bb6/nvidia_nccl_cu12-2.21.5-py3-none-manylinux2014_x86_64.whl (188.7 MB)\n",
      "     |████████████████████████████████| 188.7 MB 28 kB/s              \n",
      "\u001b[?25hCollecting nvidia-cusparse-cu12==12.3.1.170\n",
      "  Downloading https://pypi.tuna.tsinghua.edu.cn/packages/db/f7/97a9ea26ed4bbbfc2d470994b8b4f338ef663be97b8f677519ac195e113d/nvidia_cusparse_cu12-12.3.1.170-py3-none-manylinux2014_x86_64.whl (207.5 MB)\n",
      "     |████████████████████████████████| 207.5 MB 20 kB/s              \n",
      "\u001b[?25hCollecting nvidia-cublas-cu12==12.4.5.8\n",
      "  Downloading https://pypi.tuna.tsinghua.edu.cn/packages/ae/71/1c91302526c45ab494c23f61c7a84aa568b8c1f9d196efa5993957faf906/nvidia_cublas_cu12-12.4.5.8-py3-none-manylinux2014_x86_64.whl (363.4 MB)\n",
      "     |████████████████████████████████| 363.4 MB 3.4 kB/s             \n",
      "\u001b[?25hCollecting nvidia-cuda-cupti-cu12==12.4.127\n",
      "  Downloading https://pypi.tuna.tsinghua.edu.cn/packages/67/42/f4f60238e8194a3106d06a058d494b18e006c10bb2b915655bd9f6ea4cb1/nvidia_cuda_cupti_cu12-12.4.127-py3-none-manylinux2014_x86_64.whl (13.8 MB)\n",
      "     |████████████████████████████████| 13.8 MB 2.3 MB/s            \n",
      "\u001b[?25hCollecting mpmath<1.4,>=1.1.0\n",
      "  Downloading https://pypi.tuna.tsinghua.edu.cn/packages/43/e3/7d92a15f894aa0c9c4b49b8ee9ac9850d6e63b03c9c32c0367a13ae62209/mpmath-1.3.0-py3-none-any.whl (536 kB)\n",
      "     |████████████████████████████████| 536 kB 4.3 MB/s            \n",
      "\u001b[?25hCollecting s3transfer<0.12.0,>=0.11.0\n",
      "  Downloading https://pypi.tuna.tsinghua.edu.cn/packages/86/62/8d3fc3ec6640161a5649b2cddbbf2b9fa39c92541225b33f117c37c5a2eb/s3transfer-0.11.4-py3-none-any.whl (84 kB)\n",
      "     |████████████████████████████████| 84 kB 1.3 MB/s             \n",
      "\u001b[?25hCollecting jmespath<2.0.0,>=0.7.1\n",
      "  Downloading https://pypi.tuna.tsinghua.edu.cn/packages/31/b4/b9b800c45527aadd64d5b442f9b932b00648617eb5d63d2c7a6587b7cafc/jmespath-1.0.1-py3-none-any.whl (20 kB)\n",
      "Collecting botocore<1.38.0,>=1.37.13\n",
      "  Downloading https://pypi.tuna.tsinghua.edu.cn/packages/09/43/2aa89ca8ab69196890b0682820469e62d93c4cf402ceb46a3007fd44b0c3/botocore-1.37.13-py3-none-any.whl (13.4 MB)\n",
      "     |████████████████████████████████| 13.4 MB 301 kB/s            \n",
      "\u001b[?25hRequirement already satisfied: charset-normalizer<4,>=2 in /afs/crc.nd.edu/user/w/wli24/.local/lib/python3.9/site-packages (from requests->pytorch-pretrained-bert) (3.4.1)\n",
      "Requirement already satisfied: urllib3<3,>=1.21.1 in /usr/lib/python3.9/site-packages (from requests->pytorch-pretrained-bert) (1.26.5)\n",
      "Requirement already satisfied: idna<4,>=2.5 in /usr/lib/python3.9/site-packages (from requests->pytorch-pretrained-bert) (2.10)\n",
      "Requirement already satisfied: certifi>=2017.4.17 in /afs/crc.nd.edu/user/w/wli24/.local/lib/python3.9/site-packages (from requests->pytorch-pretrained-bert) (2025.1.31)\n",
      "Requirement already satisfied: python-dateutil<3.0.0,>=2.1 in /afs/crc.nd.edu/user/w/wli24/.local/lib/python3.9/site-packages (from botocore<1.38.0,>=1.37.13->boto3->pytorch-pretrained-bert) (2.9.0.post0)\n",
      "Requirement already satisfied: MarkupSafe>=2.0 in /afs/crc.nd.edu/user/w/wli24/.local/lib/python3.9/site-packages (from jinja2->torch>=0.4.1->pytorch-pretrained-bert) (3.0.2)\n",
      "Requirement already satisfied: six>=1.5 in /usr/lib/python3.9/site-packages (from python-dateutil<3.0.0,>=2.1->botocore<1.38.0,>=1.37.13->boto3->pytorch-pretrained-bert) (1.15.0)\n",
      "Installing collected packages: nvidia-nvjitlink-cu12, jmespath, nvidia-cusparse-cu12, nvidia-cublas-cu12, mpmath, botocore, triton, sympy, s3transfer, nvidia-nvtx-cu12, nvidia-nccl-cu12, nvidia-cusparselt-cu12, nvidia-cusolver-cu12, nvidia-curand-cu12, nvidia-cufft-cu12, nvidia-cudnn-cu12, nvidia-cuda-runtime-cu12, nvidia-cuda-nvrtc-cu12, nvidia-cuda-cupti-cu12, networkx, fsspec, filelock, tqdm, torch, regex, boto3, pytorch-pretrained-bert\n",
      "\u001b[33m  WARNING: The scripts proton and proton-viewer are installed in '/afs/crc.nd.edu/user/w/wli24/.local/bin' which is not on PATH.\n",
      "  Consider adding this directory to PATH or, if you prefer to suppress this warning, use --no-warn-script-location.\u001b[0m\n",
      "\u001b[33m  WARNING: The script isympy is installed in '/afs/crc.nd.edu/user/w/wli24/.local/bin' which is not on PATH.\n",
      "  Consider adding this directory to PATH or, if you prefer to suppress this warning, use --no-warn-script-location.\u001b[0m\n",
      "\u001b[33m  WARNING: The script tqdm is installed in '/afs/crc.nd.edu/user/w/wli24/.local/bin' which is not on PATH.\n",
      "  Consider adding this directory to PATH or, if you prefer to suppress this warning, use --no-warn-script-location.\u001b[0m\n",
      "\u001b[33m  WARNING: The scripts torchfrtrace and torchrun are installed in '/afs/crc.nd.edu/user/w/wli24/.local/bin' which is not on PATH.\n",
      "  Consider adding this directory to PATH or, if you prefer to suppress this warning, use --no-warn-script-location.\u001b[0m\n",
      "\u001b[33m  WARNING: The script pytorch_pretrained_bert is installed in '/afs/crc.nd.edu/user/w/wli24/.local/bin' which is not on PATH.\n",
      "  Consider adding this directory to PATH or, if you prefer to suppress this warning, use --no-warn-script-location.\u001b[0m\n",
      "Successfully installed boto3-1.37.13 botocore-1.37.13 filelock-3.18.0 fsspec-2025.3.0 jmespath-1.0.1 mpmath-1.3.0 networkx-3.2.1 nvidia-cublas-cu12-12.4.5.8 nvidia-cuda-cupti-cu12-12.4.127 nvidia-cuda-nvrtc-cu12-12.4.127 nvidia-cuda-runtime-cu12-12.4.127 nvidia-cudnn-cu12-9.1.0.70 nvidia-cufft-cu12-11.2.1.3 nvidia-curand-cu12-10.3.5.147 nvidia-cusolver-cu12-11.6.1.9 nvidia-cusparse-cu12-12.3.1.170 nvidia-cusparselt-cu12-0.6.2 nvidia-nccl-cu12-2.21.5 nvidia-nvjitlink-cu12-12.4.127 nvidia-nvtx-cu12-12.4.127 pytorch-pretrained-bert-0.6.2 regex-2024.11.6 s3transfer-0.11.4 sympy-1.13.1 torch-2.6.0 tqdm-4.67.1 triton-3.2.0\n",
      "Note: you may need to restart the kernel to use updated packages.\n"
     ]
    }
   ],
   "source": [
    "pip install -i https://pypi.tuna.tsinghua.edu.cn/simple pytorch-pretrained-bert"
   ]
  },
  {
   "cell_type": "code",
   "execution_count": 3,
   "id": "5661f5ba",
   "metadata": {
    "tags": []
   },
   "outputs": [
    {
     "name": "stdout",
     "output_type": "stream",
     "text": [
      "Defaulting to user installation because normal site-packages is not writeable\n",
      "Looking in indexes: https://pypi.tuna.tsinghua.edu.cn/simple\n",
      "Collecting transformers\n",
      "  Downloading https://pypi.tuna.tsinghua.edu.cn/packages/20/37/1f29af63e9c30156a3ed6ebc2754077016577c094f31de7b2631e5d379eb/transformers-4.49.0-py3-none-any.whl (10.0 MB)\n",
      "     |████████████████████████████████| 10.0 MB 217 kB/s            \n",
      "\u001b[?25hCollecting huggingface-hub<1.0,>=0.26.0\n",
      "  Downloading https://pypi.tuna.tsinghua.edu.cn/packages/40/0c/37d380846a2e5c9a3c6a73d26ffbcfdcad5fc3eacf42fdf7cff56f2af634/huggingface_hub-0.29.3-py3-none-any.whl (468 kB)\n",
      "     |████████████████████████████████| 468 kB 9.2 MB/s            \n",
      "\u001b[?25hRequirement already satisfied: pyyaml>=5.1 in /usr/lib64/python3.9/site-packages (from transformers) (5.4.1)\n",
      "Collecting safetensors>=0.4.1\n",
      "  Downloading https://pypi.tuna.tsinghua.edu.cn/packages/a6/f8/dae3421624fcc87a89d42e1898a798bc7ff72c61f38973a65d60df8f124c/safetensors-0.5.3-cp38-abi3-manylinux_2_17_x86_64.manylinux2014_x86_64.whl (471 kB)\n",
      "     |████████████████████████████████| 471 kB 9.5 MB/s            \n",
      "\u001b[?25hRequirement already satisfied: numpy>=1.17 in /usr/lib64/python3.9/site-packages (from transformers) (1.20.1)\n",
      "Requirement already satisfied: packaging>=20.0 in /afs/crc.nd.edu/user/w/wli24/.local/lib/python3.9/site-packages (from transformers) (24.2)\n",
      "Requirement already satisfied: filelock in /afs/crc.nd.edu/user/w/wli24/.local/lib/python3.9/site-packages (from transformers) (3.18.0)\n",
      "Requirement already satisfied: requests in /afs/crc.nd.edu/user/w/wli24/.local/lib/python3.9/site-packages (from transformers) (2.32.3)\n",
      "Requirement already satisfied: tqdm>=4.27 in /afs/crc.nd.edu/user/w/wli24/.local/lib/python3.9/site-packages (from transformers) (4.67.1)\n",
      "Requirement already satisfied: regex!=2019.12.17 in /afs/crc.nd.edu/user/w/wli24/.local/lib/python3.9/site-packages (from transformers) (2024.11.6)\n",
      "Collecting tokenizers<0.22,>=0.21\n",
      "  Downloading https://pypi.tuna.tsinghua.edu.cn/packages/8a/63/38be071b0c8e06840bc6046991636bcb30c27f6bb1e670f4f4bc87cf49cc/tokenizers-0.21.1-cp39-abi3-manylinux_2_17_x86_64.manylinux2014_x86_64.whl (3.0 MB)\n",
      "     |████████████████████████████████| 3.0 MB 9.3 MB/s            \n",
      "\u001b[?25hRequirement already satisfied: fsspec>=2023.5.0 in /afs/crc.nd.edu/user/w/wli24/.local/lib/python3.9/site-packages (from huggingface-hub<1.0,>=0.26.0->transformers) (2025.3.0)\n",
      "Requirement already satisfied: typing-extensions>=3.7.4.3 in /afs/crc.nd.edu/user/w/wli24/.local/lib/python3.9/site-packages (from huggingface-hub<1.0,>=0.26.0->transformers) (4.12.2)\n",
      "Requirement already satisfied: charset-normalizer<4,>=2 in /afs/crc.nd.edu/user/w/wli24/.local/lib/python3.9/site-packages (from requests->transformers) (3.4.1)\n",
      "Requirement already satisfied: urllib3<3,>=1.21.1 in /usr/lib/python3.9/site-packages (from requests->transformers) (1.26.5)\n",
      "Requirement already satisfied: certifi>=2017.4.17 in /afs/crc.nd.edu/user/w/wli24/.local/lib/python3.9/site-packages (from requests->transformers) (2025.1.31)\n",
      "Requirement already satisfied: idna<4,>=2.5 in /usr/lib/python3.9/site-packages (from requests->transformers) (2.10)\n",
      "Installing collected packages: huggingface-hub, tokenizers, safetensors, transformers\n",
      "\u001b[33m  WARNING: The script huggingface-cli is installed in '/afs/crc.nd.edu/user/w/wli24/.local/bin' which is not on PATH.\n",
      "  Consider adding this directory to PATH or, if you prefer to suppress this warning, use --no-warn-script-location.\u001b[0m\n",
      "\u001b[33m  WARNING: The script transformers-cli is installed in '/afs/crc.nd.edu/user/w/wli24/.local/bin' which is not on PATH.\n",
      "  Consider adding this directory to PATH or, if you prefer to suppress this warning, use --no-warn-script-location.\u001b[0m\n",
      "Successfully installed huggingface-hub-0.29.3 safetensors-0.5.3 tokenizers-0.21.1 transformers-4.49.0\n",
      "Note: you may need to restart the kernel to use updated packages.\n"
     ]
    }
   ],
   "source": [
    "pip install -i https://pypi.tuna.tsinghua.edu.cn/simple transformers"
   ]
  },
  {
   "cell_type": "code",
   "execution_count": 4,
   "id": "773efd26",
   "metadata": {
    "tags": []
   },
   "outputs": [
    {
     "name": "stdout",
     "output_type": "stream",
     "text": [
      "Defaulting to user installation because normal site-packages is not writeable\n",
      "Looking in indexes: https://pypi.tuna.tsinghua.edu.cn/simple\n",
      "Collecting openpyxl\n",
      "  Downloading https://pypi.tuna.tsinghua.edu.cn/packages/c0/da/977ded879c29cbd04de313843e76868e6e13408a94ed6b987245dc7c8506/openpyxl-3.1.5-py2.py3-none-any.whl (250 kB)\n",
      "     |████████████████████████████████| 250 kB 231 kB/s            \n",
      "\u001b[?25hCollecting et-xmlfile\n",
      "  Downloading https://pypi.tuna.tsinghua.edu.cn/packages/c1/8b/5fe2cc11fee489817272089c4203e679c63b570a5aaeb18d852ae3cbba6a/et_xmlfile-2.0.0-py3-none-any.whl (18 kB)\n",
      "Installing collected packages: et-xmlfile, openpyxl\n",
      "Successfully installed et-xmlfile-2.0.0 openpyxl-3.1.5\n",
      "Note: you may need to restart the kernel to use updated packages.\n"
     ]
    }
   ],
   "source": [
    "pip install -i https://pypi.tuna.tsinghua.edu.cn/simple openpyxl"
   ]
  },
  {
   "cell_type": "code",
   "execution_count": 5,
   "id": "501d4a25-40ce-4416-882a-45e2e7a398fd",
   "metadata": {
    "tags": []
   },
   "outputs": [
    {
     "name": "stdout",
     "output_type": "stream",
     "text": [
      "Defaulting to user installation because normal site-packages is not writeable\n",
      "Collecting pandas\n",
      "  Downloading pandas-2.2.3-cp39-cp39-manylinux_2_17_x86_64.manylinux2014_x86_64.whl (13.1 MB)\n",
      "     |████████████████████████████████| 13.1 MB 3.2 MB/s            \n",
      "\u001b[?25hCollecting tzdata>=2022.7\n",
      "  Downloading tzdata-2025.1-py2.py3-none-any.whl (346 kB)\n",
      "     |████████████████████████████████| 346 kB 192.1 MB/s            \n",
      "\u001b[?25hCollecting pytz>=2020.1\n",
      "  Downloading pytz-2025.1-py2.py3-none-any.whl (507 kB)\n",
      "     |████████████████████████████████| 507 kB 191.2 MB/s            \n",
      "\u001b[?25hCollecting numpy>=1.22.4\n",
      "  Downloading numpy-2.0.2-cp39-cp39-manylinux_2_17_x86_64.manylinux2014_x86_64.whl (19.5 MB)\n",
      "     |████████████████████████████████| 19.5 MB 195.6 MB/s            \n",
      "\u001b[?25hRequirement already satisfied: python-dateutil>=2.8.2 in /afs/crc.nd.edu/user/w/wli24/.local/lib/python3.9/site-packages (from pandas) (2.9.0.post0)\n",
      "Requirement already satisfied: six>=1.5 in /usr/lib/python3.9/site-packages (from python-dateutil>=2.8.2->pandas) (1.15.0)\n",
      "Installing collected packages: tzdata, pytz, numpy, pandas\n",
      "\u001b[33m  WARNING: The scripts f2py and numpy-config are installed in '/afs/crc.nd.edu/user/w/wli24/.local/bin' which is not on PATH.\n",
      "  Consider adding this directory to PATH or, if you prefer to suppress this warning, use --no-warn-script-location.\u001b[0m\n",
      "Successfully installed numpy-2.0.2 pandas-2.2.3 pytz-2025.1 tzdata-2025.1\n",
      "Note: you may need to restart the kernel to use updated packages.\n"
     ]
    }
   ],
   "source": [
    "pip install pandas"
   ]
  },
  {
   "cell_type": "code",
   "execution_count": 6,
   "id": "0032d17c-b5f0-49b0-992b-528fad283e5c",
   "metadata": {
    "tags": []
   },
   "outputs": [
    {
     "name": "stdout",
     "output_type": "stream",
     "text": [
      "Defaulting to user installation because normal site-packages is not writeable\n",
      "Collecting scikit-learn\n",
      "  Downloading scikit_learn-1.6.1-cp39-cp39-manylinux_2_17_x86_64.manylinux2014_x86_64.whl (13.5 MB)\n",
      "     |████████████████████████████████| 13.5 MB 4.4 MB/s            \n",
      "\u001b[?25hRequirement already satisfied: numpy>=1.19.5 in /afs/crc.nd.edu/user/w/wli24/.local/lib/python3.9/site-packages (from scikit-learn) (2.0.2)\n",
      "Collecting scipy>=1.6.0\n",
      "  Downloading scipy-1.13.1-cp39-cp39-manylinux_2_17_x86_64.manylinux2014_x86_64.whl (38.6 MB)\n",
      "     |████████████████████████████████| 38.6 MB 202.9 MB/s            \n",
      "\u001b[?25hCollecting threadpoolctl>=3.1.0\n",
      "  Downloading threadpoolctl-3.6.0-py3-none-any.whl (18 kB)\n",
      "Collecting joblib>=1.2.0\n",
      "  Downloading joblib-1.4.2-py3-none-any.whl (301 kB)\n",
      "     |████████████████████████████████| 301 kB 144.5 MB/s            \n",
      "\u001b[?25hInstalling collected packages: threadpoolctl, scipy, joblib, scikit-learn\n",
      "Successfully installed joblib-1.4.2 scikit-learn-1.6.1 scipy-1.13.1 threadpoolctl-3.6.0\n",
      "Note: you may need to restart the kernel to use updated packages.\n"
     ]
    }
   ],
   "source": [
    "pip install scikit-learn"
   ]
  },
  {
   "cell_type": "code",
   "execution_count": 1,
   "id": "4a5cbabc-6715-472e-ac82-6cb12602694d",
   "metadata": {},
   "outputs": [
    {
     "name": "stdout",
     "output_type": "stream",
     "text": [
      "Defaulting to user installation because normal site-packages is not writeable\n",
      "Collecting sentencepiece\n",
      "  Downloading sentencepiece-0.2.0-cp39-cp39-manylinux_2_17_x86_64.manylinux2014_x86_64.whl (1.3 MB)\n",
      "     |████████████████████████████████| 1.3 MB 4.5 MB/s            \n",
      "\u001b[?25hInstalling collected packages: sentencepiece\n",
      "Successfully installed sentencepiece-0.2.0\n",
      "Note: you may need to restart the kernel to use updated packages.\n"
     ]
    }
   ],
   "source": [
    "pip install sentencepiece"
   ]
  },
  {
   "cell_type": "markdown",
   "id": "0b1959a9-84d5-44dc-b42c-87a807d83ed4",
   "metadata": {},
   "source": [
    "GPU information"
   ]
  },
  {
   "cell_type": "code",
   "execution_count": 1,
   "id": "4a92bdce-c3ea-4520-8f77-357041640863",
   "metadata": {},
   "outputs": [
    {
     "name": "stdout",
     "output_type": "stream",
     "text": [
      "Number of GPUs available: 1\n",
      "GPU 0: NVIDIA H100 80GB HBM3\n",
      "  Memory Available: 84.377468928 GB\n",
      "  Memory Total: 84.929347584 GB\n"
     ]
    }
   ],
   "source": [
    "import torch\n",
    " \n",
    "# 检查是否有可用的GPU\n",
    "if torch.cuda.is_available():\n",
    "    num_gpus = torch.cuda.device_count()\n",
    "    print(f\"Number of GPUs available: {num_gpus}\")\n",
    "    for i in range(num_gpus):\n",
    "        print(f\"GPU {i}: {torch.cuda.get_device_name(i)}\")\n",
    "        print(f\"  Memory Available: {torch.cuda.mem_get_info(i)[0] / 1e9} GB\")\n",
    "        print(f\"  Memory Total: {torch.cuda.get_device_properties(i).total_memory / 1e9} GB\")\n",
    "else:\n",
    "    print(\"No GPU available.\")"
   ]
  },
  {
   "cell_type": "code",
   "execution_count": null,
   "id": "3f7962df-6881-468a-8ed9-efba101ea90d",
   "metadata": {},
   "outputs": [],
   "source": []
  },
  {
   "cell_type": "code",
   "execution_count": null,
   "id": "ed8e2a65",
   "metadata": {},
   "outputs": [],
   "source": []
  }
 ],
 "metadata": {
  "kernelspec": {
   "display_name": "Python 3 (ipykernel)",
   "language": "python",
   "name": "python3"
  },
  "language_info": {
   "codemirror_mode": {
    "name": "ipython",
    "version": 3
   },
   "file_extension": ".py",
   "mimetype": "text/x-python",
   "name": "python",
   "nbconvert_exporter": "python",
   "pygments_lexer": "ipython3",
   "version": "3.9.19"
  }
 },
 "nbformat": 4,
 "nbformat_minor": 5
}
