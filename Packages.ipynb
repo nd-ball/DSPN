{
 "cells": [
  {
   "cell_type": "code",
   "execution_count": null,
   "id": "275e7316",
   "metadata": {
    "scrolled": true,
    "tags": []
   },
   "outputs": [],
   "source": [
    "pip install -i https://pypi.tuna.tsinghua.edu.cn/simple pytorch-pretrained-bert"
   ]
  },
  {
   "cell_type": "code",
   "execution_count": null,
   "id": "5661f5ba",
   "metadata": {
    "tags": []
   },
   "outputs": [],
   "source": [
    "pip install -i https://pypi.tuna.tsinghua.edu.cn/simple transformers"
   ]
  },
  {
   "cell_type": "code",
   "execution_count": null,
   "id": "773efd26",
   "metadata": {
    "tags": []
   },
   "outputs": [],
   "source": [
    "pip install -i https://pypi.tuna.tsinghua.edu.cn/simple openpyxl"
   ]
  },
  {
   "cell_type": "code",
   "execution_count": null,
   "id": "501d4a25-40ce-4416-882a-45e2e7a398fd",
   "metadata": {
    "tags": []
   },
   "outputs": [],
   "source": [
    "pip install pandas"
   ]
  },
  {
   "cell_type": "code",
   "execution_count": null,
   "id": "0032d17c-b5f0-49b0-992b-528fad283e5c",
   "metadata": {
    "tags": []
   },
   "outputs": [],
   "source": [
    "pip install scikit-learn"
   ]
  },
  {
   "cell_type": "code",
   "execution_count": null,
   "id": "4a5cbabc-6715-472e-ac82-6cb12602694d",
   "metadata": {},
   "outputs": [],
   "source": [
    "pip install sentencepiece"
   ]
  },
  {
   "cell_type": "code",
   "execution_count": null,
   "id": "f77ce3e9-7cb3-485d-b8de-04609e80d31e",
   "metadata": {},
   "outputs": [],
   "source": [
    "pip install gensim"
   ]
  },
  {
   "cell_type": "code",
   "execution_count": null,
   "id": "45142d47-6198-48ad-80a7-0360dc9944a6",
   "metadata": {},
   "outputs": [],
   "source": [
    "pip install simpletransformers==0.48.0"
   ]
  },
  {
   "cell_type": "code",
   "execution_count": null,
   "id": "1cdf3bde-ea36-4b41-94e9-2d5b95dd27f7",
   "metadata": {},
   "outputs": [],
   "source": [
    "pip install imblearn"
   ]
  },
  {
   "cell_type": "code",
   "execution_count": null,
   "id": "8e0ea72a-3be0-4fa6-bcb5-1dfc30265f65",
   "metadata": {},
   "outputs": [],
   "source": []
  },
  {
   "cell_type": "markdown",
   "id": "0b1959a9-84d5-44dc-b42c-87a807d83ed4",
   "metadata": {},
   "source": [
    "GPU information"
   ]
  },
  {
   "cell_type": "code",
   "execution_count": null,
   "id": "4a92bdce-c3ea-4520-8f77-357041640863",
   "metadata": {},
   "outputs": [],
   "source": [
    "import torch\n",
    "\n",
    "if torch.cuda.is_available():\n",
    "    num_gpus = torch.cuda.device_count()\n",
    "    print(f\"Number of GPUs available: {num_gpus}\")\n",
    "    for i in range(num_gpus):\n",
    "        print(f\"GPU {i}: {torch.cuda.get_device_name(i)}\")\n",
    "        print(f\"  Memory Available: {torch.cuda.mem_get_info(i)[0] / 1e9} GB\")\n",
    "        print(f\"  Memory Total: {torch.cuda.get_device_properties(i).total_memory / 1e9} GB\")\n",
    "else:\n",
    "    print(\"No GPU available.\")"
   ]
  },
  {
   "cell_type": "code",
   "execution_count": null,
   "id": "5994ff72-840d-440c-a904-a8cd93092791",
   "metadata": {},
   "outputs": [],
   "source": []
  },
  {
   "cell_type": "code",
   "execution_count": null,
   "id": "ed8e2a65",
   "metadata": {},
   "outputs": [],
   "source": []
  }
 ],
 "metadata": {
  "kernelspec": {
   "display_name": "Python 3 (ipykernel)",
   "language": "python",
   "name": "python3"
  },
  "language_info": {
   "codemirror_mode": {
    "name": "ipython",
    "version": 3
   },
   "file_extension": ".py",
   "mimetype": "text/x-python",
   "name": "python",
   "nbconvert_exporter": "python",
   "pygments_lexer": "ipython3",
   "version": "3.9.19"
  }
 },
 "nbformat": 4,
 "nbformat_minor": 5
}
